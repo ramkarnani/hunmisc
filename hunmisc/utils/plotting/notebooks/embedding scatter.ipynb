{
 "cells": [
  {
   "cell_type": "markdown",
   "metadata": {},
   "source": [
    "Initialization\n",
    "===="
   ]
  },
  {
   "cell_type": "code",
   "execution_count": null,
   "metadata": {
    "collapsed": true
   },
   "outputs": [],
   "source": [
    "import sys\n",
    "import cPickle\n",
    "\n",
    "import numpy\n",
    "import scipy\n",
    "\n",
    "from sklearn.manifold import TSNE\n",
    "\n",
    "import matplotlib.pyplot as plt\n",
    "\n",
    "import seaborn as sns"
   ]
  },
  {
   "cell_type": "code",
   "execution_count": null,
   "metadata": {
    "collapsed": true
   },
   "outputs": [],
   "source": [
    "%matplotlib inline"
   ]
  },
  {
   "cell_type": "code",
   "execution_count": null,
   "metadata": {
    "collapsed": true
   },
   "outputs": [],
   "source": [
    "# some seaborn initialization for prettier plots\n",
    "def init_seaborn():\n",
    "    sns.set_style('darkgrid')\n",
    "    sns.set_palette('muted')\n",
    "    sns.set_context(\"notebook\", font_scale=1.5,\n",
    "                    rc={\"lines.linewidth\": 2.5})\n",
    "\n",
    "RS = 20151012\n",
    "init_seaborn()"
   ]
  },
  {
   "cell_type": "markdown",
   "metadata": {},
   "source": [
    "Reading data\n",
    "===="
   ]
  },
  {
   "cell_type": "code",
   "execution_count": null,
   "metadata": {
    "collapsed": true
   },
   "outputs": [],
   "source": [
    "# read vectors, one word per row\n",
    "\n",
    "def read_data(fn):\n",
    "    d = cPickle.load(open(fn))\n",
    "    labels, vectors = {}, []\n",
    "    for k, v in d.iteritems():\n",
    "        labels[k] = len(labels)\n",
    "        vectors.append(v)\n",
    "    return labels, numpy.array(vectors)"
   ]
  },
  {
   "cell_type": "code",
   "execution_count": null,
   "metadata": {
    "collapsed": false
   },
   "outputs": [],
   "source": [
    "labels, vectors = read_data(\"all_feat_vectors\")\n",
    "print 'nal', 'ies', scipy.spatial.distance.cosine(vectors[labels['nal']], vectors[labels['ies']])"
   ]
  },
  {
   "cell_type": "markdown",
   "metadata": {},
   "source": [
    "training t-sne\n",
    "===="
   ]
  },
  {
   "cell_type": "code",
   "execution_count": null,
   "metadata": {
    "collapsed": false
   },
   "outputs": [],
   "source": [
    "tsne = TSNE(random_state=RS, learning_rate=200, verbose=2, perplexity=20, metric=scipy.spatial.distance.cosine)\n",
    "proj = tsne.fit_transform(vectors)"
   ]
  },
  {
   "cell_type": "code",
   "execution_count": null,
   "metadata": {
    "collapsed": false
   },
   "outputs": [],
   "source": [
    "proj.shape"
   ]
  },
  {
   "cell_type": "code",
   "execution_count": null,
   "metadata": {
    "collapsed": false
   },
   "outputs": [],
   "source": [
    "proj[labels['lly']]"
   ]
  },
  {
   "cell_type": "markdown",
   "metadata": {},
   "source": [
    "Plotting\n",
    "===="
   ]
  },
  {
   "cell_type": "code",
   "execution_count": null,
   "metadata": {
    "collapsed": false
   },
   "outputs": [],
   "source": [
    "f = plt.figure(figsize=(12, 12))\n",
    "ax = plt.subplot(aspect='equal')\n",
    "sc = ax.scatter(proj[:,0], proj[:,1], lw=0, s=40)\n",
    "plt.xlim(-25, 25)\n",
    "plt.ylim(-25, 25)\n",
    "ax.axis('off')\n",
    "ax.axis('tight')\n",
    "to_annotate = ['ion', 'ity', 'ism', 'tor', 'age',\n",
    "               'ncy', 'hip', 'ium', 'ney', 'cer',\n",
    "               'ked', 'ged', 'red', 'ied', 'ced',\n",
    "               'tic', 'ful', 'ary', 'cal', 'lar']\n",
    "for l in to_annotate:\n",
    "    ax.annotate(l, proj[labels[l]], color='g', fontsize=20)\n",
    "plt.show()"
   ]
  }
 ],
 "metadata": {
  "kernelspec": {
   "display_name": "Python 2",
   "language": "python",
   "name": "python2"
  },
  "language_info": {
   "codemirror_mode": {
    "name": "ipython",
    "version": 2
   },
   "file_extension": ".py",
   "mimetype": "text/x-python",
   "name": "python",
   "nbconvert_exporter": "python",
   "pygments_lexer": "ipython2",
   "version": "2.7.3rc2"
  }
 },
 "nbformat": 4,
 "nbformat_minor": 0
}
